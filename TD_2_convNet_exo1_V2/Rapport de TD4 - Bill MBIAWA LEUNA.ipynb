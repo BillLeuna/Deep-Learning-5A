{
 "cells": [
  {
   "cell_type": "markdown",
   "metadata": {},
   "source": [
    "                                    Rapport de Travaux Dirigés: TD4 - Bill Ruben MBIAWA LEUNA\n",
    "                                    Entraînement d'un Classificateur d'Images avec PyTorch"
   ]
  },
  {
   "cell_type": "markdown",
   "metadata": {},
   "source": [
    "                                                    Introduction\n",
    "\n",
    "L'entraînement d'un classificateur d'images est une tâche fondamentale en apprentissage automatique, et PyTorch offre des outils puissants pour accomplir cette mission. Dans ce rapport, nous explorerons les étapes clés de l'entraînement d'un classificateur d'images en utilisant le jeu de données CIFAR-10. Nous allons couvrir le chargement et la normalisation des données, la définition d'un réseau neuronal convolutif (CNN), la spécification d'une fonction de perte et d'un optimiseur, l'entraînement du modèle et son évaluation sur des données de test."
   ]
  },
  {
   "cell_type": "markdown",
   "metadata": {},
   "source": [
    "                                        Chargement et Normalisation des Données:\n",
    "\n",
    "Nous avons commencé par charger le jeu de données CIFAR-10, qui comprend des images étiquetées appartenant à dix classes différentes telles que 'avion', 'voiture', 'oiseau', etc. Les données sont prétraitées à l'aide de la bibliothèque torchvision, qui facilite le chargement et la transformation des images en tenseurs normalisés."
   ]
  },
  {
   "cell_type": "code",
   "execution_count": null,
   "metadata": {},
   "outputs": [],
   "source": [
    "# Code pour le chargement et la normalisation des données\n",
    "import torch\n",
    "import torchvision\n",
    "import torchvision.transforms as transforms\n",
    "\n",
    "# ... (code pour le chargement des données)\n"
   ]
  },
  {
   "cell_type": "markdown",
   "metadata": {},
   "source": [
    "                                                Définition du Modèle:\n",
    "                                                \n",
    "Ensuite, nous avons défini un modèle de réseau neuronal convolutif (CNN) adapté aux images en couleur de CIFAR-10. Le modèle, nommé Net, comprend deux couches de convolution, des opérations de pooling et des couches entièrement connectées."
   ]
  },
  {
   "cell_type": "code",
   "execution_count": null,
   "metadata": {},
   "outputs": [],
   "source": [
    "# Code pour la définition du modèle\n",
    "import torch.nn as nn\n",
    "import torch.nn.functional as F\n",
    "\n",
    "class Net(nn.Module):\n",
    "    # ... (code pour la définition du modèle)\n"
   ]
  },
  {
   "cell_type": "markdown",
   "metadata": {},
   "source": [
    "                                Définition de la Fonction de Perte et de l'Optimiseur:\n",
    "\n",
    "Pour entraîner le modèle, nous avons spécifié une fonction de perte de cross-entropy, adaptée à la classification, et un optimiseur Stochastic Gradient Descent (SGD) avec momentum."
   ]
  },
  {
   "cell_type": "code",
   "execution_count": null,
   "metadata": {},
   "outputs": [],
   "source": [
    "# Code pour la définition de la fonction de perte et de l'optimiseur\n",
    "import torch.optim as optim\n",
    "\n",
    "criterion = nn.CrossEntropyLoss()\n",
    "optimizer = optim.SGD(net.parameters(), lr=0.001, momentum=0.9)\n"
   ]
  },
  {
   "cell_type": "markdown",
   "metadata": {},
   "source": [
    "                                                Entraînement du Modèle:\n",
    "\n",
    "Nous avons lancé ensuite le processus d'entraînement en itérant sur les époques et les mini-lots du jeu d'entraînement. À chaque itération, le modèle est optimisé pour minimiser la perte prédite."
   ]
  },
  {
   "cell_type": "code",
   "execution_count": null,
   "metadata": {},
   "outputs": [],
   "source": [
    "# Code pour l'entraînement du modèle\n",
    "for epoch in range(2):\n",
    "    # ... (code pour l'entraînement du modèle)\n",
    "    \n",
    "print('Finished Training')\n"
   ]
  },
  {
   "cell_type": "markdown",
   "metadata": {},
   "source": [
    "                                                    Sauvegarde du Modèle:\n",
    "\n",
    "Une fois l'entraînement terminé, nous avons sauvegardé le modèle pour une utilisation future."
   ]
  },
  {
   "cell_type": "code",
   "execution_count": null,
   "metadata": {},
   "outputs": [],
   "source": [
    "# Code pour la sauvegarde du modèle\n",
    "PATH = './cifar_net.pth'\n",
    "torch.save(net.state_dict(), PATH)\n"
   ]
  },
  {
   "cell_type": "markdown",
   "metadata": {},
   "source": [
    "                                                    Évaluation du Modèle:\n",
    "Nous avons évalué ensuite la performance du modèle sur le jeu de données de test, calculant son exactitude globale ainsi que son exactitude pour chaque classe individuelle."
   ]
  },
  {
   "cell_type": "code",
   "execution_count": null,
   "metadata": {},
   "outputs": [],
   "source": [
    "# Code pour l'évaluation du modèle\n",
    "correct = 0\n",
    "total = 0\n",
    "with torch.no_grad():\n",
    "    # ... (code pour l'évaluation du modèle)\n",
    "    \n",
    "print('Accuracy of the network on the 10000 test images: %d %%' % (100 * correct / total))\n"
   ]
  },
  {
   "cell_type": "markdown",
   "metadata": {},
   "source": [
    "                                                Analyse des Performances par Classe:\n",
    "                                                \n",
    "Enfin, nous avons analysé les performances du modèle pour chaque classe individuelle, identifiant celles qui ont été bien classées et celles qui n'ont pas performé aussi bien."
   ]
  },
  {
   "cell_type": "code",
   "execution_count": null,
   "metadata": {},
   "outputs": [],
   "source": [
    "# Code pour l'analyse des performances par classe\n",
    "class_correct = list(0. for i in range(10))\n",
    "class_total = list(0. for i in range(10))\n",
    "with torch.no_grad():\n",
    "    # ... (code pour l'analyse des performances par classe)\n",
    "for i in range(10):\n",
    "    print('Accuracy of %5s : %2d %%' % (\n",
    "        classes[i], 100 * class_correct[i] / class_total[i]))\n"
   ]
  },
  {
   "cell_type": "markdown",
   "metadata": {},
   "source": [
    "                                                    Conclusion:\n",
    "\n",
    "Dans ce travail dirigé, on a étudié les étapes cruciales de l'entraînement d'un classificateur d'images avec PyTorch, en mettant l'accent sur le jeu de données CIFAR-10. Il couvre le chargement des données, la définition du modèle, la spécification de la fonction de perte et de l'optimiseur, l'entraînement du modèle, l'évaluation des performances et l'analyse par classe. Ces compétences sont fondamentales pour tout praticien de l'apprentissage automatique et constituent une base solide pour des projets plus avancés."
   ]
  }
 ],
 "metadata": {
  "kernelspec": {
   "display_name": "Python 3 (ipykernel)",
   "language": "python",
   "name": "python3"
  },
  "language_info": {
   "codemirror_mode": {
    "name": "ipython",
    "version": 3
   },
   "file_extension": ".py",
   "mimetype": "text/x-python",
   "name": "python",
   "nbconvert_exporter": "python",
   "pygments_lexer": "ipython3",
   "version": "3.11.5"
  }
 },
 "nbformat": 4,
 "nbformat_minor": 2
}
