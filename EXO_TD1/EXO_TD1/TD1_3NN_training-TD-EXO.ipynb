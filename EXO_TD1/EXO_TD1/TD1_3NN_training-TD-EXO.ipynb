{
 "cells": [
  {
   "cell_type": "markdown",
   "metadata": {},
   "source": [
    "# Training Neural Networks\n",
    "\n",
    "## So far......\n",
    "## -Loding data, normalising data, \n",
    "## Loading train and test data,\n",
    "## building the NN network using three different ways, \n",
    "## nn.sequential preferred, \n",
    "## initializing weigts and viewing the weights, \n",
    "\n",
    "\n",
    "\n",
    "The network we built in the previous part isn't so smart, it doesn't know anything about our handwritten digits. Neural networks with non-linear activations work like universal function approximators. There is some function that maps your input to the output. For example, images of handwritten digits to class probabilities. The power of neural networks is that we can train them to approximate this function, and basically any function given enough data and compute time.\n",
    "\n",
    "<img src=\"TD_images/function_approx.png\" width=500px>\n",
    "\n",
    "At first the network is naive, it doesn't know the function mapping the inputs to the outputs. We train the network by showing it examples of real data, then adjusting the network parameters such that it approximates this function.\n",
    "\n",
    "To find these parameters, we need to know how poorly the network is predicting the real outputs. For this we calculate a **loss function** (also called the cost), a measure of our prediction error. For example, the mean squared loss is often used in regression and binary classification problems\n",
    "\n",
    "$$\n",
    "\\large \\ell = \\frac{1}{2n}\\sum_i^n{\\left(y_i - \\hat{y}_i\\right)^2}\n",
    "$$\n",
    "\n",
    "where $n$ is the number of training examples, $y_i$ are the true labels, and $\\hat{y}_i$ are the predicted labels.\n",
    "\n",
    "By minimizing this loss with respect to the network parameters, we can find configurations where the loss is at a minimum and the network is able to predict the correct labels with high accuracy. **gradient descent** is used to find the minimum"
   ]
  },
  {
   "cell_type": "markdown",
   "metadata": {},
   "source": [
    "## Backpropagation\n",
    "\n",
    "\n",
    "\n",
    "Training multilayer networks is done through **backpropagation** \n",
    "--> application of the chain rule from calculus. \n",
    "\n",
    "<img src='TD_images/backprop_diagram.png' width=550px>\n",
    "\n",
    "In the forward pass through the network, our data and operations go from bottom to top here. \n",
    "\n",
    "We pass the input $x$ through a linear transformation $L_1$ with weights $W_1$ and biases $b_1$.\n",
    "\n",
    "The output then goes through the sigmoid operation $S$ and another linear transformation $L_2$. Finally we calculate the loss $\\ell$. \n",
    "We use the loss as a measure of how bad the network's predictions are. The goal then is to adjust the weights and biases to minimize the loss.\n",
    "\n",
    "To train the weights with gradient descent, we propagate the gradient of the loss backwards through the network. Each operation has some gradient between the inputs and outputs. As we send the gradients backwards, we multiply the incoming gradient with the gradient for the operation. Mathematically, this is really just calculating the gradient of the loss with respect to the weights using the chain rule.\n",
    "\n",
    "$$\n",
    "\\large \\frac{\\partial \\ell}{\\partial W_1} = \\frac{\\partial L_1}{\\partial W_1} \\frac{\\partial S}{\\partial L_1} \\frac{\\partial L_2}{\\partial S} \\frac{\\partial \\ell}{\\partial L_2}\n",
    "$$\n",
    "\n",
    "\n",
    "We update our weights using this gradient with some learning rate $\\alpha$. \n",
    "\n",
    "$$\n",
    "\\large W^\\prime_1 = W_1 - \\alpha \\frac{\\partial \\ell}{\\partial W_1}\n",
    "$$\n",
    "\n",
    "The learning rate $\\alpha$ is set such that the weight update steps are small enough that the iterative method settles in a minimum."
   ]
  },
  {
   "cell_type": "markdown",
   "metadata": {},
   "source": [
    "## Losses in PyTorch\n",
    "\n",
    "Recall from lecture: \n",
    "<img src='TD_images/loss1.png'>\n",
    "\n",
    "\n",
    "\n",
    "Let's start by seeing how we calculate the loss with PyTorch. \n",
    "\n",
    "Through the `nn` module, \n",
    "PyTorch provides losses such as the **cross-entropy loss (`nn.CrossEntropyLoss`)**.\n",
    "\n",
    "**You'll usually see the loss assigned to `criterion`.** \n",
    "\n",
    "As noted in the last part, with a classification problem such as MNIST, we're using the softmax function to predict class probabilities. \n",
    "**With a softmax output, you want to use cross-entropy as the loss**. \n",
    "To actually calculate the loss, you first define the criterion then **pass in the output of your network and the correct labels**\n",
    "\n",
    "**Very Important**\n",
    "Looking at [the documentation for `nn.CrossEntropyLoss`](https://pytorch.org/docs/stable/nn.html#torch.nn.CrossEntropyLoss),\n",
    "\n",
    "> This criterion combines `nn.LogSoftmax()` and `nn.NLLLoss()` in one single class.\n",
    ">\n",
    "> The input is expected to contain scores for each class.\n",
    "\n",
    "**This means we need to pass in the raw output of our network into the loss, not the output of the softmax function**. \n",
    "\n",
    "# **This raw output is usually called the *logits* or *scores* **.\n",
    "\n",
    "We use the logits because softmax gives you probabilities which will often be very close to zero or one. ...... \n",
    "\n",
    "but floating-point numbers can't accurately represent values near zero or one ([read more here](https://docs.python.org/3/tutorial/floatingpoint.html)).\n",
    "\n",
    "**It's usually best to avoid doing calculations with probabilities, typically we use log-probabilities.**"
   ]
  },
  {
   "cell_type": "code",
   "execution_count": 1,
   "metadata": {},
   "outputs": [],
   "source": [
    "import torch\n",
    "from torch import nn\n",
    "import torch.nn.functional as F\n",
    "from torchvision import datasets, transforms\n",
    "\n",
    "# Define a transform to normalize the data\n",
    "transform = transforms.Compose([transforms.ToTensor(),\n",
    "                                transforms.Normalize((0.5,), (0.5,)),\n",
    "                              ])\n",
    "# Download and load the training data\n",
    "trainset = datasets.MNIST('~/.pytorch/MNIST_data/', download=True, train=True, transform=transform)\n",
    "trainloader = torch.utils.data.DataLoader(trainset, batch_size=64, shuffle=True)"
   ]
  },
  {
   "cell_type": "code",
   "execution_count": 2,
   "metadata": {},
   "outputs": [
    {
     "name": "stdout",
     "output_type": "stream",
     "text": [
      "tensor(2.3067, grad_fn=<NllLossBackward0>)\n"
     ]
    }
   ],
   "source": [
    "# Build a feed-forward network\n",
    "mymodel = nn.Sequential(nn.Linear(784, 128),\n",
    "                      nn.ReLU(),\n",
    "                      nn.Linear(128, 64),\n",
    "                      nn.ReLU(),\n",
    "                      nn.Linear(64, 10))\n",
    "\n",
    "# Define the loss\n",
    "criterion = nn.CrossEntropyLoss()\n",
    "\n",
    "# Get our data\n",
    "images, labels = next(iter(trainloader))\n",
    "# Flatten images\n",
    "images = images.view(images.shape[0], -1)\n",
    "\n",
    "# Forward pass, get our logits\n",
    "logits = mymodel(images)\n",
    "# Calculate the loss with the logits and the labels\n",
    "loss = criterion(logits, labels)\n",
    "\n",
    "print(loss)"
   ]
  },
  {
   "cell_type": "code",
   "execution_count": null,
   "metadata": {},
   "outputs": [],
   "source": []
  },
  {
   "cell_type": "markdown",
   "metadata": {},
   "source": [
    "According to best practices, \n",
    "it's more convenient to build the model with a log-softmax output using `nn.LogSoftmax` or `F.log_softmax` \n",
    "\n",
    "([documentation](https://pytorch.org/docs/stable/nn.html#torch.nn.LogSoftmax)). \n",
    "\n",
    "Then you can get the actual probabilites by taking the exponential `torch.exp(output)`. \n",
    "\n",
    "**With a log-softmax output, you want to use the negative log likelihood loss, `nn.NLLLoss`** ([documentation](https://pytorch.org/docs/stable/nn.html#torch.nn.NLLLoss)).\n",
    "\n",
    "**Compared to previous cell, here logits are not given out but log-softmax outputs are given out + NLLs loss applied** (preferrred based on experience\n",
    "\n",
    ">**Exercise:** Build a model that returns the log-softmax as the output and calculate the loss using the negative log likelihood loss."
   ]
  },
  {
   "cell_type": "code",
   "execution_count": 7,
   "metadata": {},
   "outputs": [
    {
     "name": "stdout",
     "output_type": "stream",
     "text": [
      "tensor(0.0221, grad_fn=<NllLossBackward0>)\n"
     ]
    }
   ],
   "source": [
    "## Solution\n",
    "\n",
    "# Build a feed-forward network\n",
    "model = nn.Sequential(nn.Linear(784, 128),\n",
    "                      nn.ReLU(),\n",
    "                      nn.Linear(128, 64),\n",
    "                      nn.ReLU(),\n",
    "                      nn.Linear(64, 10),\n",
    "                      nn.LogSoftmax(dim=1))## see the difference\n",
    "\n",
    "# Define the loss\n",
    "criterion = nn.NLLLoss()\n",
    "\n",
    "# Get our data\n",
    "images, labels = next(iter(trainloader))\n",
    "\n",
    "# Flatten images\n",
    "images = images.view(images.shape[0], -1)\n",
    "\n",
    "# Forward pass, get our log-probabilities\n",
    "logits = mymodel(images)\n",
    "\n",
    "# Calculate the loss with the logps and the labels\n",
    "loss = criterion(logits, labels)\n",
    "\n",
    "print(loss)"
   ]
  },
  {
   "cell_type": "markdown",
   "metadata": {},
   "source": []
  },
  {
   "cell_type": "markdown",
   "metadata": {},
   "source": [
    "To calculate the gradients, you need to run the `.backward` method on a Variable, `z` for example. This will calculate the gradient for `z` with respect to `x`\n",
    "\n",
    "$$\n",
    "\\frac{\\partial z}{\\partial x} = \\frac{\\partial}{\\partial x}\\left[\\frac{1}{n}\\sum_i^n x_i^2\\right] = \\frac{x}{2}\n",
    "$$"
   ]
  },
  {
   "cell_type": "markdown",
   "metadata": {},
   "source": [
    "These gradients calculations are particularly useful for neural networks. For training we need the gradients of the weights with respect to the cost. With PyTorch, we run data forward through the network to calculate the loss, then, go backwards to calculate the gradients with respect to the loss. Once we have the gradients we can make a gradient descent step. "
   ]
  },
  {
   "cell_type": "markdown",
   "metadata": {},
   "source": [
    "## Loss and Autograd together\n",
    "\n",
    "When we create a network with PyTorch, all of the parameters are initialized with `requires_grad = True`. This means that when we calculate the loss and call `loss.backward()`, the gradients for the parameters are calculated. These gradients are used to update the weights with gradient descent. Below you can see an example of calculating the gradients using a backwards pass."
   ]
  },
  {
   "cell_type": "code",
   "execution_count": null,
   "metadata": {},
   "outputs": [],
   "source": []
  },
  {
   "cell_type": "code",
   "execution_count": 8,
   "metadata": {},
   "outputs": [
    {
     "name": "stdout",
     "output_type": "stream",
     "text": [
      "Before backward pass: \n",
      " None\n",
      "After backward pass: \n",
      " None\n"
     ]
    }
   ],
   "source": [
    "print('Before backward pass: \\n', model[0].weight.grad)\n",
    "\n",
    "loss.backward()\n",
    "\n",
    "print('After backward pass: \\n', model[0].weight.grad)"
   ]
  },
  {
   "cell_type": "markdown",
   "metadata": {},
   "source": [
    "## Training the network!\n",
    "\n",
    "**Before training, we need an optimizer that we'll use to update the weights with the gradients**\n",
    "\n",
    "We get these from PyTorch's [`optim` package](https://pytorch.org/docs/stable/optim.html). \n",
    "\n",
    "For example we can use stochastic gradient descent with `optim.SGD`. You can see how to define an optimizer below."
   ]
  },
  {
   "cell_type": "code",
   "execution_count": 10,
   "metadata": {},
   "outputs": [],
   "source": [
    "from torch import optim\n",
    "\n",
    "# Optimizers require the parameters to optimize and a learning rate\n",
    "optimizer = optim.SGD(model.parameters(), lr=0.01)"
   ]
  },
  {
   "cell_type": "markdown",
   "metadata": {},
   "source": [
    "Now we know how to use all the individual parts so it's time to see how they work together. Let's consider just one learning step before looping through all the data. \n",
    "\n",
    "The general process with PyTorch: \n",
    "# one learning step\n",
    " \n",
    "# * Make a forward pass through the network \n",
    "# * Use the network output to calculate the loss\n",
    "# * Perform a backward pass through the network with `loss.backward()` to calculate the gradients\n",
    "# * Take a step with the optimizer to update the weights\n",
    "\n",
    "But first, \n",
    "## Lets go through one training step and print out the weights and gradients so you can see how it changes.\n",
    "\n",
    "\n",
    "Note that I have a line of code `optimizer.zero_grad()`. \n",
    "**When you do multiple backwards passes with the same parameters, the gradients are accumulated.\n",
    "**This means that you need to zero the gradients on each training pass or you'll retain gradients from previous training batches."
   ]
  },
  {
   "cell_type": "code",
   "execution_count": 11,
   "metadata": {},
   "outputs": [
    {
     "name": "stdout",
     "output_type": "stream",
     "text": [
      "Initial weights -  Parameter containing:\n",
      "tensor([[ 0.0043,  0.0181, -0.0159,  ..., -0.0136,  0.0160, -0.0167],\n",
      "        [-0.0351, -0.0123, -0.0344,  ..., -0.0055,  0.0111, -0.0282],\n",
      "        [ 0.0355, -0.0184,  0.0087,  ..., -0.0305,  0.0033, -0.0007],\n",
      "        ...,\n",
      "        [-0.0234, -0.0111,  0.0099,  ..., -0.0246, -0.0283,  0.0212],\n",
      "        [ 0.0329,  0.0236,  0.0039,  ...,  0.0064, -0.0022, -0.0250],\n",
      "        [-0.0180,  0.0243, -0.0207,  ..., -0.0072, -0.0109,  0.0043]],\n",
      "       requires_grad=True)\n",
      "Gradient - tensor([[ 2.2584e-03,  2.2584e-03,  2.2584e-03,  ...,  2.2584e-03,\n",
      "          2.2584e-03,  2.2584e-03],\n",
      "        [ 1.1457e-04,  1.1457e-04,  1.1457e-04,  ...,  1.1457e-04,\n",
      "          1.1457e-04,  1.1457e-04],\n",
      "        [ 2.4850e-03,  2.4850e-03,  2.4850e-03,  ...,  2.4850e-03,\n",
      "          2.4850e-03,  2.4850e-03],\n",
      "        ...,\n",
      "        [-5.4069e-03, -5.4069e-03, -5.4069e-03,  ..., -5.4069e-03,\n",
      "         -5.4069e-03, -5.4069e-03],\n",
      "        [-2.5945e-03, -2.5945e-03, -2.5945e-03,  ..., -2.5945e-03,\n",
      "         -2.5945e-03, -2.5945e-03],\n",
      "        [-9.7355e-05, -9.7355e-05, -9.7355e-05,  ..., -9.7355e-05,\n",
      "         -9.7355e-05, -9.7355e-05]])\n"
     ]
    }
   ],
   "source": [
    "print('Initial weights - ', model[0].weight)\n",
    "\n",
    "images, labels = next(iter(trainloader))\n",
    "images.resize_(64, 784)\n",
    "\n",
    "# Clear the gradients, do this because gradients are accumulated\n",
    "optimizer.zero_grad()\n",
    "\n",
    "# Forward pass, then backward pass, then update weights\n",
    "output = model(images) #forward pass\n",
    "loss = criterion(output, labels) # loss calculate\n",
    "loss.backward() #backward\n",
    "print('Gradient -', model[0].weight.grad)#get the weigts"
   ]
  },
  {
   "cell_type": "code",
   "execution_count": 11,
   "metadata": {},
   "outputs": [
    {
     "name": "stdout",
     "output_type": "stream",
     "text": [
      "Updated weights -  Parameter containing:\n",
      "tensor([[ 0.0089,  0.0191,  0.0166,  ...,  0.0186,  0.0319,  0.0164],\n",
      "        [ 0.0100,  0.0213,  0.0292,  ...,  0.0216, -0.0088,  0.0298],\n",
      "        [ 0.0264, -0.0142, -0.0130,  ..., -0.0286, -0.0042,  0.0120],\n",
      "        ...,\n",
      "        [-0.0087, -0.0065,  0.0113,  ...,  0.0319, -0.0140, -0.0231],\n",
      "        [ 0.0090, -0.0166,  0.0138,  ...,  0.0243,  0.0330, -0.0041],\n",
      "        [-0.0073,  0.0286,  0.0190,  ..., -0.0083,  0.0157, -0.0271]],\n",
      "       requires_grad=True)\n"
     ]
    }
   ],
   "source": [
    "# Take an update step and few the new weights\n",
    "optimizer.step()\n",
    "print('Updated weights - ', model[0].weight)"
   ]
  },
  {
   "cell_type": "markdown",
   "metadata": {},
   "source": [
    "### Training for real\n",
    "\n",
    "Now we'll put this algorithm into a loop so we can go through all the images. \n",
    "\n",
    "Some nomenclature, one pass through the entire dataset is called an *epoch*. \n",
    "\n",
    "So here we're going to loop through `trainloader` to get our training batches. \n",
    "\n",
    "For each batch, we'll doing a training pass where we calculate the loss, do a backwards pass, and update the weights.\n",
    "\n",
    "> **Exercise: ** Implement the training pass for our network. If you implemented it correctly, you should see the training loss drop with each epoch."
   ]
  },
  {
   "cell_type": "code",
   "execution_count": 18,
   "metadata": {},
   "outputs": [
    {
     "name": "stdout",
     "output_type": "stream",
     "text": [
      "Training loss: 0.012126222258244555\n",
      "Training loss: 0.012107634279409796\n",
      "Training loss: 0.012132881472367785\n",
      "Training loss: 0.012102747934209908\n",
      "Training loss: 0.012124968149616364\n",
      "Training loss: 0.012091640210926418\n",
      "Training loss: 0.012115000829367197\n",
      "Training loss: 0.012110017629412027\n",
      "Training loss: 0.012106815852424149\n",
      "Training loss: 0.012126952566495383\n",
      "Training loss: 0.01210170742613313\n",
      "Training loss: 0.012101607427543608\n",
      "Training loss: 0.012113927790065055\n",
      "Training loss: 0.012144371684737948\n",
      "Training loss: 0.012125155887691114\n",
      "Training loss: 0.012103442051227011\n",
      "Training loss: 0.012109191220344059\n",
      "Training loss: 0.012131431806740835\n",
      "Training loss: 0.01210180149660128\n",
      "Training loss: 0.012135878950953166\n",
      "Training loss: 0.01211400767300538\n",
      "Training loss: 0.012133767948577007\n",
      "Training loss: 0.01210931051706921\n",
      "Training loss: 0.01212634770990238\n",
      "Training loss: 0.012104219571103468\n",
      "Training loss: 0.012112551103115205\n",
      "Training loss: 0.01211425152413402\n",
      "Training loss: 0.012109613702778937\n",
      "Training loss: 0.01212783216436489\n",
      "Training loss: 0.012117849059228195\n"
     ]
    }
   ],
   "source": [
    "my1model = nn.Sequential(nn.Linear(784, 128),\n",
    "                      nn.ReLU(),\n",
    "                      nn.Linear(128, 64),\n",
    "                      nn.ReLU(),\n",
    "                      nn.Linear(64, 10),\n",
    "                      nn.LogSoftmax(dim=1))\n",
    "\n",
    "criterion = nn.NLLLoss()\n",
    "optimizer = optim.SGD(my1model.parameters(), lr=0.01)\n",
    "\n",
    "epochs = 30\n",
    "for e in range(epochs):\n",
    "    running_loss = 0\n",
    "    for images, labels in trainloader:\n",
    "        \n",
    "        # Flatten MNIST images into a 784 long vector\n",
    "        images = images.view(images.shape[0], -1)\n",
    "    \n",
    "        # TODO: Training pass\n",
    "        optimizer.zero_grad()\n",
    "        \n",
    "        output = mymodel(images)\n",
    "        loss = criterion(output, labels)\n",
    "        \n",
    "        #Backpropagate the loss\n",
    "        loss.backward()\n",
    "        \n",
    "        #take one step of optimiser\n",
    "        optimizer.step()\n",
    "        \n",
    "        running_loss += loss.item()\n",
    "    else:\n",
    "        print(f\"Training loss: {running_loss/len(trainloader)}\")"
   ]
  },
  {
   "cell_type": "markdown",
   "metadata": {},
   "source": [
    "With the network trained, we can check out it's predictions."
   ]
  },
  {
   "cell_type": "code",
   "execution_count": 17,
   "metadata": {},
   "outputs": [
    {
     "data": {
      "image/png": "[encoded data removed]",
      "text/plain": [
       "<Figure size 600x900 with 2 Axes>"
      ]
     },
     "metadata": {},
     "output_type": "display_data"
    }
   ],
   "source": [
    "%matplotlib inline\n",
    "import helper1\n",
    "\n",
    "images, labels = next(iter(trainloader))\n",
    "\n",
    "img = images[8].view(1, 784)\n",
    "# Turn off gradients to speed up this part\n",
    "with torch.no_grad():\n",
    "    logps = mymodel(img)\n",
    "\n",
    "# Output of the network are log-probabilities, need to take exponential for probabilities\n",
    "ps = torch.exp(logps)\n",
    "helper1.view_classify(img.view(1, 28, 28), ps)"
   ]
  },
  {
   "cell_type": "markdown",
   "metadata": {},
   "source": [
    "Now our network is brilliant. It can accurately predict the digits in our images. Next up you'll write the code for training a neural network on a more complex dataset."
   ]
  }
 ],
 "metadata": {
  "kernelspec": {
   "display_name": "Python 3 (ipykernel)",
   "language": "python",
   "name": "python3"
  },
  "language_info": {
   "codemirror_mode": {
    "name": "ipython",
    "version": 3
   },
   "file_extension": ".py",
   "mimetype": "text/x-python",
   "name": "python",
   "nbconvert_exporter": "python",
   "pygments_lexer": "ipython3",
   "version": "3.11.5"
  }
 },
 "nbformat": 4,
 "nbformat_minor": 2
}
