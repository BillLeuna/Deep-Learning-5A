{
 "cells": [
  {
   "cell_type": "markdown",
   "metadata": {},
   "source": [
    "# Training Neural Networks"
   ]
  },
  {
   "cell_type": "markdown",
   "metadata": {},
   "source": [
    "                                                Introduction\n",
    "\n",
    "Le TD de Deep Learning vise à explorer les fondamentaux du deep learning en utilisant PyTorch, un framework populaire pour le développement de réseaux neuronaux. L'objectif principal est de construire, entraîner et évaluer un réseau de neurones pour la classification d'images en utilisant l'ensemble de données MNIST, qui comprend des images de chiffres manuscrits."
   ]
  },
  {
   "cell_type": "markdown",
   "metadata": {},
   "source": [
    "                                                Importation des Bibliothèques et Chargement des Données\n",
    "\n",
    "Dans cette partie, nous importons les bibliothèques nécessaires et préparons les données d'entraînement en utilisant l'ensemble de données MNIST."
   ]
  },
  {
   "cell_type": "code",
   "execution_count": 1,
   "metadata": {},
   "outputs": [],
   "source": [
    "import torch\n",
    "from torch import nn\n",
    "import torch.nn.functional as F\n",
    "from torchvision import datasets, transforms\n",
    "\n",
    "# Define a transform to normalize the data\n",
    "transform = transforms.Compose([transforms.ToTensor(),\n",
    "                                transforms.Normalize((0.5,), (0.5,)),\n",
    "                              ])\n",
    "# Download and load the training data\n",
    "trainset = datasets.MNIST('~/.pytorch/MNIST_data/', download=True, train=True, transform=transform)\n",
    "trainloader = torch.utils.data.DataLoader(trainset, batch_size=64, shuffle=True)"
   ]
  },
  {
   "cell_type": "markdown",
   "metadata": {},
   "source": [
    "                                                Construction du Modèle\n",
    "\n",
    "Nous définissons un modèle de réseau de neurones à trois couches avec des activations ReLU entre les couches, ensuite nous choisissons la fonction de perte appropriée pour un problème de classification multiclasse, en l'occurrence, la perte de l'entropie croisée. Pour finir, nous effectuons une itération d'entraînement, où nous faisons une passe avant (forward pass) à travers le réseau, calculons la perte et effectuons la rétropropagation."
   ]
  },
  {
   "cell_type": "code",
   "execution_count": 2,
   "metadata": {},
   "outputs": [
    {
     "name": "stdout",
     "output_type": "stream",
     "text": [
      "tensor(2.3050, grad_fn=<NllLossBackward0>)\n"
     ]
    }
   ],
   "source": [
    "# Build a feed-forward network\n",
    "mymodel = nn.Sequential(nn.Linear(784, 128),\n",
    "                      nn.ReLU(),\n",
    "                      nn.Linear(128, 64),\n",
    "                      nn.ReLU(),\n",
    "                      nn.Linear(64, 10))\n",
    "\n",
    "# Define the loss\n",
    "criterion = nn.CrossEntropyLoss()\n",
    "\n",
    "# Get our data\n",
    "images, labels = next(iter(trainloader))\n",
    "# Flatten images\n",
    "images = images.view(images.shape[0], -1)\n",
    "\n",
    "# Forward pass, get our logits\n",
    "logits = mymodel(images)\n",
    "# Calculate the loss with the logits and the labels\n",
    "loss = criterion(logits, labels)\n",
    "\n",
    "print(loss)"
   ]
  },
  {
   "cell_type": "code",
   "execution_count": 4,
   "metadata": {},
   "outputs": [
    {
     "name": "stdout",
     "output_type": "stream",
     "text": [
      "Before backward pass: \n",
      " None\n",
      "After backward pass: \n",
      " tensor([[ 0.0000,  0.0000,  0.0000,  ...,  0.0000,  0.0000,  0.0000],\n",
      "        [-0.0007, -0.0007, -0.0007,  ..., -0.0007, -0.0007, -0.0007],\n",
      "        [-0.0010, -0.0010, -0.0010,  ..., -0.0010, -0.0010, -0.0010],\n",
      "        ...,\n",
      "        [-0.0010, -0.0010, -0.0010,  ..., -0.0010, -0.0010, -0.0010],\n",
      "        [ 0.0000,  0.0000,  0.0000,  ...,  0.0000,  0.0000,  0.0000],\n",
      "        [ 0.0000,  0.0000,  0.0000,  ...,  0.0000,  0.0000,  0.0000]])\n"
     ]
    }
   ],
   "source": [
    "print('Before backward pass: \\n', mymodel[0].weight.grad)\n",
    "\n",
    "loss.backward()\n",
    "\n",
    "print('After backward pass: \\n', mymodel[0].weight.grad)"
   ]
  },
  {
   "cell_type": "markdown",
   "metadata": {},
   "source": [
    "                                                Mise à Jour des Poids\n",
    "\n",
    "Nous utilisons un optimiseur (SGD dans ce cas) pour mettre à jour les poids du modèle en fonction des gradients calculés pendant la rétropropagation."
   ]
  },
  {
   "cell_type": "code",
   "execution_count": 5,
   "metadata": {},
   "outputs": [],
   "source": [
    "from torch import optim\n",
    "\n",
    "# Optimizers require the parameters to optimize and a learning rate\n",
    "optimizer = optim.SGD(mymodel.parameters(), lr=0.01)"
   ]
  },
  {
   "cell_type": "markdown",
   "metadata": {},
   "source": [
    "Nous observons les poids initiaux de la première couche du modèle, puis effectuons une itération d'entraînement. En utilisant un lot d'images redimensionnées à plat du jeu de données MNIST, nous réalisons une passe avant pour obtenir les prédictions. La perte est calculée à l'aide de la fonction de perte définie, suivie d'une rétropropagation pour mettre à jour les poids avec l'optimiseur. L'affichage des gradients de la première couche offre un aperçu des ajustements effectués au cours de cette itération."
   ]
  },
  {
   "cell_type": "code",
   "execution_count": 6,
   "metadata": {},
   "outputs": [
    {
     "name": "stdout",
     "output_type": "stream",
     "text": [
      "Initial weights -  Parameter containing:\n",
      "tensor([[ 0.0302,  0.0257,  0.0265,  ...,  0.0357,  0.0341,  0.0291],\n",
      "        [-0.0109, -0.0197, -0.0118,  ..., -0.0159,  0.0117, -0.0189],\n",
      "        [-0.0252,  0.0151, -0.0256,  ..., -0.0158,  0.0197, -0.0240],\n",
      "        ...,\n",
      "        [-0.0041, -0.0223, -0.0178,  ..., -0.0198, -0.0279,  0.0216],\n",
      "        [ 0.0160, -0.0051, -0.0217,  ..., -0.0254, -0.0275,  0.0128],\n",
      "        [ 0.0314,  0.0310, -0.0350,  ...,  0.0082,  0.0125, -0.0312]],\n",
      "       requires_grad=True)\n",
      "Gradient - tensor([[ 0.0000,  0.0000,  0.0000,  ...,  0.0000,  0.0000,  0.0000],\n",
      "        [ 0.0019,  0.0019,  0.0019,  ...,  0.0019,  0.0019,  0.0019],\n",
      "        [-0.0018, -0.0018, -0.0018,  ..., -0.0018, -0.0018, -0.0018],\n",
      "        ...,\n",
      "        [ 0.0004,  0.0004,  0.0004,  ...,  0.0004,  0.0004,  0.0004],\n",
      "        [-0.0002, -0.0002, -0.0002,  ..., -0.0002, -0.0002, -0.0002],\n",
      "        [ 0.0003,  0.0003,  0.0003,  ...,  0.0003,  0.0003,  0.0003]])\n"
     ]
    }
   ],
   "source": [
    "print('Initial weights - ', mymodel[0].weight)\n",
    "\n",
    "images, labels = next(iter(trainloader))\n",
    "images.resize_(64, 784)\n",
    "\n",
    "# Clear the gradients, do this because gradients are accumulated\n",
    "optimizer.zero_grad()\n",
    "\n",
    "# Forward pass, then backward pass, then update weights\n",
    "output = mymodel(images) #forward pass\n",
    "loss = criterion(output, labels) # loss calculate\n",
    "loss.backward() #backward\n",
    "print('Gradient -', mymodel[0].weight.grad)#get the weigts"
   ]
  },
  {
   "cell_type": "code",
   "execution_count": 7,
   "metadata": {},
   "outputs": [
    {
     "name": "stdout",
     "output_type": "stream",
     "text": [
      "Updated weights -  Parameter containing:\n",
      "tensor([[ 0.0302,  0.0257,  0.0265,  ...,  0.0357,  0.0341,  0.0291],\n",
      "        [-0.0110, -0.0197, -0.0118,  ..., -0.0159,  0.0117, -0.0189],\n",
      "        [-0.0252,  0.0152, -0.0256,  ..., -0.0158,  0.0197, -0.0240],\n",
      "        ...,\n",
      "        [-0.0041, -0.0223, -0.0178,  ..., -0.0198, -0.0279,  0.0216],\n",
      "        [ 0.0160, -0.0051, -0.0217,  ..., -0.0254, -0.0275,  0.0128],\n",
      "        [ 0.0314,  0.0310, -0.0350,  ...,  0.0082,  0.0125, -0.0312]],\n",
      "       requires_grad=True)\n"
     ]
    }
   ],
   "source": [
    "# Take an update step and few the new weights\n",
    "optimizer.step()\n",
    "print('Updated weights - ', mymodel[0].weight)"
   ]
  },
  {
   "cell_type": "markdown",
   "metadata": {},
   "source": [
    "                                                Boucle d'Entraînement\n",
    "\n",
    "Nous mettons en place une boucle d'entraînement complète qui parcourt plusieurs époques, effectue des itérations sur les lots et met à jour les poids du modèle."
   ]
  },
  {
   "cell_type": "code",
   "execution_count": 8,
   "metadata": {},
   "outputs": [
    {
     "name": "stdout",
     "output_type": "stream",
     "text": [
      "Training loss: -0.022540103444191162\n",
      "Training loss: -0.02255203385758194\n",
      "Training loss: -0.022546006934166248\n",
      "Training loss: -0.022538721672820745\n",
      "Training loss: -0.02254915160894233\n",
      "Training loss: -0.022551155843171796\n",
      "Training loss: -0.022543358540761647\n",
      "Training loss: -0.022538876708367094\n",
      "Training loss: -0.02255109083259911\n",
      "Training loss: -0.02254902448899585\n",
      "Training loss: -0.02253364638887348\n",
      "Training loss: -0.02254669606238966\n",
      "Training loss: -0.022540383819820306\n",
      "Training loss: -0.02254069957031763\n",
      "Training loss: -0.02254697310463734\n",
      "Training loss: -0.02253754679474787\n",
      "Training loss: -0.022540891703008725\n",
      "Training loss: -0.022545481456129918\n",
      "Training loss: -0.022547956592570157\n",
      "Training loss: -0.022540715655737887\n",
      "Training loss: -0.022544353244839103\n",
      "Training loss: -0.0225539893185698\n",
      "Training loss: -0.02254291764584118\n",
      "Training loss: -0.0225354810170869\n",
      "Training loss: -0.02253604785520345\n",
      "Training loss: -0.02254510829047705\n",
      "Training loss: -0.022552485766409558\n",
      "Training loss: -0.022539073058259067\n",
      "Training loss: -0.022540401324440143\n",
      "Training loss: -0.02254279665128916\n"
     ]
    }
   ],
   "source": [
    "my1model = nn.Sequential(nn.Linear(784, 128),\n",
    "                      nn.ReLU(),\n",
    "                      nn.Linear(128, 64),\n",
    "                      nn.ReLU(),\n",
    "                      nn.Linear(64, 10),\n",
    "                      nn.LogSoftmax(dim=1))\n",
    "\n",
    "criterion = nn.NLLLoss()\n",
    "optimizer = optim.SGD(my1model.parameters(), lr=0.01)\n",
    "\n",
    "epochs = 30\n",
    "for e in range(epochs):\n",
    "    running_loss = 0\n",
    "    for images, labels in trainloader:\n",
    "        \n",
    "        # Flatten MNIST images into a 784 long vector\n",
    "        images = images.view(images.shape[0], -1)\n",
    "    \n",
    "        # TODO: Training pass\n",
    "        optimizer.zero_grad()\n",
    "        \n",
    "        output = mymodel(images)\n",
    "        loss = criterion(output, labels)\n",
    "        \n",
    "        #Backpropagate the loss\n",
    "        loss.backward()\n",
    "        \n",
    "        #take one step of optimiser\n",
    "        optimizer.step()\n",
    "        \n",
    "        running_loss += loss.item()\n",
    "    else:\n",
    "        print(f\"Training loss: {running_loss/len(trainloader)}\")"
   ]
  },
  {
   "cell_type": "markdown",
   "metadata": {},
   "source": [
    "                                                Visualisation des Résultats\n",
    "\n",
    "Nous utilisons une image du jeu de données de test pour visualiser les résultats de la classification après l'entraînement."
   ]
  },
  {
   "cell_type": "code",
   "execution_count": 9,
   "metadata": {},
   "outputs": [
    {
     "data": {
      "image/png": "[encoded data removed]",
      "text/plain": [
       "<Figure size 600x900 with 2 Axes>"
      ]
     },
     "metadata": {},
     "output_type": "display_data"
    }
   ],
   "source": [
    "%matplotlib inline\n",
    "import helper1\n",
    "\n",
    "images, labels = next(iter(trainloader))\n",
    "\n",
    "img = images[8].view(1, 784)\n",
    "# Turn off gradients to speed up this part\n",
    "with torch.no_grad():\n",
    "    logps = mymodel(img)\n",
    "\n",
    "# Output of the network are log-probabilities, need to take exponential for probabilities\n",
    "ps = torch.exp(logps)\n",
    "helper1.view_classify(img.view(1, 28, 28), ps)"
   ]
  }
 ],
 "metadata": {
  "kernelspec": {
   "display_name": "Python 3 (ipykernel)",
   "language": "python",
   "name": "python3"
  },
  "language_info": {
   "codemirror_mode": {
    "name": "ipython",
    "version": 3
   },
   "file_extension": ".py",
   "mimetype": "text/x-python",
   "name": "python",
   "nbconvert_exporter": "python",
   "pygments_lexer": "ipython3",
   "version": "3.11.4"
  }
 },
 "nbformat": 4,
 "nbformat_minor": 2
}
